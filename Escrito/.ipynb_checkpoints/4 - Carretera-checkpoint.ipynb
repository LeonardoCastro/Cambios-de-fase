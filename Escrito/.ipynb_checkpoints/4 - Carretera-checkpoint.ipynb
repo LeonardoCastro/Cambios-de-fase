{
 "cells": [
  {
   "cell_type": "markdown",
   "metadata": {},
   "source": [
    "Una vez hecho el modelo que utilizaremos para realizar las simulaciones, es hora de estudiar y presentar el \"lugar\" en el cual los vehículos circularán.\n",
    "\n",
    "Como ya mencionamos en la introducción, el libramiento de Cuernavaca registra grandes congestionamientos no sólo en horas pico de días laborales, sino también en días festivos y vacaciones. El libramiento sirve a los habitantes de la zona metropolitana de Cuernavaca para trasladarse del norte al sur de la ciudad por una vía rápida sin semáforos u otros posibles retrasadores. Además, este libramiento tiene conexión con otras avenidas importantes como Avenida Morelos o Avenida Plan de Ayala, por lo que también tiene una función de distribuidor vial urbano.\n",
    "\n",
    "En periodos vacacionales o de asueto una importante población de la zona metropolitana del Valle de México (Ciudad de México y alrededores) viaja a zonas vacacionales incluyendo la misma ciudad de Cuernavaca y otros lugares al sur del estado de Morelos, Guerrero y Oaxaca. Los últimos días de estos periódos, un gran número de vehículos convergen sobre el libramiento de Cuernavaca como (prácticamente) única ruta de regreso hacia la Ciudad de México. Estos dos factores han contribuido al congestionamiento del libramiento, aunque no  hay que olvidar mencionar el aumento significativo que tiene cada año el parque vehícular en el país (y en especial en la Ciudad de México, donde se calcula que el parque vehícular aumenta en 300 000 unidades cada año []).\n",
    "\n",
    "Finalmente, el libramiento de Cuernavaca forma parte del puente carretero entre el puerto de Veracruz y el puerto de Acapulco, por lo que un gran número de camiones de carga ha de pasar por este tramo no sólo para ir de un oceano a otro, sino para pasar por la Ciudad de México, principal centro comercial y financiero del país. \n",
    "\n",
    "Los motivos por los cuales estudiar este tramo carretero son varios, puesto que este sirve como un pase turístico, urbano (local) y comercial. Sin embargo, como veremos más adelante, no sólo estos factores humanos contribuyen al congestionamiento, sino también algunos topográficos."
   ]
  },
  {
   "cell_type": "markdown",
   "metadata": {},
   "source": [
    "##  Detalles generales"
   ]
  },
  {
   "cell_type": "markdown",
   "metadata": {},
   "source": [
    "El tramo carretero analizado empieza unos metros antes de que empiece la zona metropolitana de Cuernavaca, en el último puente sobre-vía encontrado al bajar por la carretera México-Cuernavaca en el sentido hacia Cuernavaca, después de la desviación hacia Tepoztlán. El fin del tramo se encuentra en el trébol de la carretera hacia el aeropuerto de Cuernavaca, a unos metros del ITESM. En la figuras siguientes se da detalle de esto.\n",
    "\n",
    "<img src=Tramo_Total.png align=center>\n",
    "<h4 align=center> Mapa del tramo total estudiado.</h4>\n",
    "\n",
    "<img src=inicio_Tramo.png align=center_left>\n",
    "\n",
    "<img src=fin_Tramo.png align=center_right>\n",
    "<h4 align=center> Mapa del inicio y el final del tramo carretero estudiado.</h4>\n",
    "\n",
    "\n",
    "El tramo carretero tiene una longitud de 27.3 km aproximadamente de cada lado, dándonos un resultado al discretizar la carretera de 3640 celdas, cada una de 7.5 m tal cual se ha mencionado en el capítulo anterior.\n",
    "\n",
    "El libramiento tiene dos sentidos, uno de la Ciudad de México hacia Cuernavaca, al cual llamaremos S1 y se compone durante toda su extensión de norte a sur de 2 carril. El otro sentido (de Cuernvaca hacia la Ciudad de México) será llamado S2. Este cuenta con 2 carriles durante aproximadamente 26 km. El último kilómetro y medio restante la carretera se amplía a tres carriles.\n",
    "\n",
    "Los sentidos no fueron analizados de manera global, sino que se dividió cada uno de estos en distintas secciones. Cada sección es de longitud diferente y fueron seleccionadas según distintas características de la carretera, tales como entradas, salidas o la misma topografía del libramiento. S1 cuenta con 18 secciones, 14 por cada entronque con alguna avenida importante o con alguna rampa de entrada o salida y otras 4 secciones con tramos rectos sin entradas ni salidas. S2 cuenta por su parte con 23 secciones, 13 de ellas con rampas de entrada o salida.\n",
    "\n",
    "Las mediciones son realizadas en cada sección, de tal manera que para cada una de estas podemos obtener la densidad, velocidad y flujo promedio local. A partir de todos estos datos es que podemos llegar a obtener la información global de cada sentido.\n",
    "\n",
    "En el Apéndice A se encuentra una lista detallada de cada sección."
   ]
  },
  {
   "cell_type": "markdown",
   "metadata": {},
   "source": [
    "## Rampas de entrada y salida"
   ]
  },
  {
   "cell_type": "markdown",
   "metadata": {},
   "source": [
    "Cada uno de los entronques importantes fueron colocados individualmente en una sección para poder analizar como el conjunto de entradas y salidas afectan local y globalmente el flujo total de la carretera. La figura siguiente nos dará una idea de como se llevó acabo el análisis.\n",
    "\n",
    "<img src=Plan_de_Ayala.png align=center>\n",
    "<h4 align=center> Mapa en el cual se observa el entronque entre la Avenida Plan de Ayala y el libramiento de Cuernavaca.</h4>\n",
    "\n",
    "En la figura anterior se ve el entronque de la Av Plan de Ayala con el libramiento estudiado. En el sentido S1 (norte-sur) contamos en total cuatro rampas (2 de entrada y 2 de salida), mientras que en el sentido S2 (sur-norte) contamos tres rampas (2 de salidas y 1 de entrada). La sección que abarca este entronque en S1 empieza justo antes de la primera rampa de salida al norte y se alarga durante aproximadamente 1 km, dando espacio a que la dinámica derivada del entronque pueda recorrer un tramo significante para analizarlo. En el sentido S2, una gran sección en la cual no hay ninguna rampa y que se extiende por aproximadamente 2.5 km termina al sur de la primera rampa de salida. Justo en este punto empieza la sección que abarca el entronque, extendíendose por 1.5 km."
   ]
  },
  {
   "cell_type": "markdown",
   "metadata": {},
   "source": [
    "## Curvas y pendientes"
   ]
  },
  {
   "cell_type": "markdown",
   "metadata": {},
   "source": [
    "En cada carretera puede haber distintas causas para reducir la velocidad, incluso cuando haya un solo vehículo en la carretera. Este reducimiento puede ser por algún evento inesperado -como es el caso del frenado aleatorio-, o reglamento local -el hecho de que exista una $v_{max}$-. Sin embargo también la misma forma de la carretera puede obligar a un vehículo a reducir la velocidad.\n",
    "\n",
    "Esto ocurre por ejemplo cuando hay alguna curva muy cerrada. Un ejemplo muy conocido para aquellos que han conducido por la carretera México-Cuernavaca es la conocida \"Pera\", el cual consiste un tramo con una curvatura suficiente para reducir la velocidad hasta unos 80km/h. \n",
    "\n",
    "Otro ejemplo puede ser alguna pendiente muy pronunciada, la cual provoca que algunos coches no puedan ir a más de una cierta velocidad (no muy grande), ya sea por el peso del mismo vehículo o sus circunstancias mecánicas. \n",
    "\n",
    "Estos dos ejemplos están presentes en el libramiento de Cuernavaca, por lo cual habrá tramos en los que la velocidad máxima de uno u otro tipo de vehículo tendrá que ser reducida. \n",
    "\n",
    "<img src=Curvas.png align=center>\n",
    "<h4 align=center> Mapa de las dos curvas que se consideraron peligrosas. </h4>\n",
    "\n",
    "En primer lugar nos dedicamos a analizar las distintas curvas a lo largo del tramo en estudio. De todas aquellas, se encontró que únicamente en dos curvas la velocidad máxima de los coches (vehículo tipo 2) deben ser reducidas. Estas están situadas al inicio (final) de S1 (S2) y afectan sólo a los coches, y no a los camiones (vehículo tipo 1), debido en parte a que la velocidad máxima de los camiones es lo suficientemente baja para que estos no tengan que frenar para poder pasar sobre estas curvas sin poner en riesgo a alguien. \n",
    "\n",
    "Como seguramente ya el lector sabrá (o intuyó por el nombre), la Ciudad de México se encuentra en un gran valle (por esa razón se llama la zona metropolitana del Valle de México). Para salir de este vía terrestre habrá que cruzar montañas al oeste, sur y este de la ciudad. La ciudad de Cuernavaca se encuentra del otro lado del valle, por lo que para llegar a esta un conductor tendrá que descender una gran altitud. \n",
    "\n",
    "Como se puede observar en la figura siguiente, el inicio del tramo carretero estudiado se encuentra a aproximadamente 1880 metros sobre el nivel del mar, mientras que el inicio de las curvas (marcado en la figura) se encuentra a aproximadamente 1860 m.s.n.m mientras que el final del tramo de curvas está a 1680 m.s.n.m.. Esta diferencia de ≈ 180 m en una zona con gran curvatura provoca la reducción de la velocidad. En el caso de los camiones, una velocidad máxima de $v=3$, lo que equivale a 74 km/h basta para poder pasar las curvas sin mayor problema. Sin embargo, el tomar estas curvas a una velocidad de 128 km/h es a todas luces una imprudencia para un vehículo promedio.\n",
    "\n",
    "En el caso de S2, las razones son básicamente las mismas. Un conductor que viaja a 128km/h pone en riesgo su vida, mientras que un camión a una velocidad claramente más baja no corre tanto peligro. Sin embargo, cuando uno viaja en dirección de la Ciudad de México, el conductor se encuentra con que la pendiente que favoreció la velocidad de su vehículo ahora lo está obstaculizando. La pendiente no es lo suficientemente grande para afectar de manera notoria al vehículo tipo 2 (coche). Pero para un camión de carga, cuyo peso es mucho mayor que el de un coche promedio, esta pendiente es un grave impedimento para aumentar la velocidad.\n",
    "\n",
    "<img src=Curvas_Elevacion.png align=center>\n",
    "<h4 align=center> Topografía de la carretera en el tramo donde se encuentran las curvas en cuestión. </h4>\n",
    "\n",
    "Como se dijo anteriormente, el inicio del libramiento de Cuernavaca es el punto más elevado del tramo estudiado, con una elevación aproximada de 1880 m.s.n.m.. En cambio, el punto final del libramiento se encuentra muy cerca los 1160 m.s.n.m., dando una diferencia de casi 720 m de altura. Estas diferencias de altura son muy irregulares, por lo que el suponer una pendiente constante entre el inicio y el final del tramo sería equivocado. Como ejemplo, para descender los últimos 240 m de altura en S1 hay que recorrer 14 km de distancia, lo que equivale a más de la mitad de la longitud total del tramo estudiado. Esto nos obliga a considerar los efectos de la pendiente, especialmente en aquella otra mitad de la carretera en la que hay una diferencia de altura de 480 m entre sus extremos. \n",
    "\n",
    "Supondremos que esta pendiente no afecta notoriamente a los vehículo tipo 2. Aunque sí a los vehículos tipo 1 (camiones de carga), haciendo que su velocidad máxima descienda aún más. Evidentemente esto afecta únicamente en el sentido hacia la Ciudad de México (S2)."
   ]
  },
  {
   "cell_type": "markdown",
   "metadata": {},
   "source": [
    "Resumiendo las condiciones actuales de la carretera. Esta se dividió en dos sentidos: S1 (México-Cuernavaca) y S2 (Cuernavaca-México).\n",
    "\n",
    "S1 consiste en dos carriles a lo largo de sus 27.3km de longitud. Esta se dividió en 18 secciones de longitud no uniforme. 14 de estas secciones cuentan con algún entronque o alguna rampa de entrada/salida. Las otras 4 son tramos rectos sin ningún tipo de rampa. Los vehículos de tipo 1 no tienen ninguna restricción sobre su velocidad, mientras que aquellos de tipo 2 tendrán una restricción en su velocidad máxima en el tramo sobre el cual se encuentras las cos curvas mencionadas anteriormente. \n",
    "\n",
    "S2 consiste en dos carriles a lo largo de 26km, mientras que en el último tramo (1.3km) hay una ampliación a tres carriles. Se dividió en 23 secciones de longitud no uniforme, de las cuales 10 no tienen ningún tipo de rampa. Las restantes o bien tienen algún entronque o bien algún tipo de rampa. Los vehículos tipo 1 tienen una restricción sobre su velocidad máxima en los tramos con una pendiente importante, mientras que los de tipo 2 tienen el mismo tipo de restricción sobre el tramo de curvas.\n",
    "\n",
    "La restricción sobre la velocidad máxima consiste en disminuir esta por una unidad ($v_{max}=5 \\to 4$).\n",
    "\n",
    "Ahora que ya tenemos las características generales del tramo carretero a estudiar, falta presentar y analizar aquellas modificaciones que el Gobierno Federal planea realizar a lo largo del libramiento de Cuernavaca."
   ]
  },
  {
   "cell_type": "markdown",
   "metadata": {},
   "source": [
    "## Trabajos de ampliación"
   ]
  },
  {
   "cell_type": "markdown",
   "metadata": {},
   "source": [
    "<img src=Ampliacion.png align=center>\n",
    "<h4 align=center> Esquema en el cual se muestran las obras a realizar en el libramiento. </h4>\n",
    "\n",
    "<img src=Mapa_Ampliacion.png align=center>\n",
    "<h4 align=center> Mapa en el cual se muestra la longitud de las obras a realizar. </h4>\n",
    "\n",
    "Los trabajos de ampliación afectarán únicamente a una mitad del tramo carretero. El número de carriles tampoco se verá afectado en ninguno de los dos sentidos. \n",
    "\n",
    "El efecto de las obras en nuestra simulación se vería reflejado en dos puntos. \n",
    "\n",
    "El primero es que el acceso al libramiento en todo este tramo modificado será por los extremos. Esto elimina de un gran número de secciones de S1 y S2 todas aquellas rampas. Esto simplifica el análisis y dinámica de nuestra simulación. Sin embargo, hay que tener en cuenta que todo aquel volumen de coches que, teniendo dirección la Ciudad de México, entraban a la carretera por todos aquellos accesos que serán eliminados por las obras, tendrán que entrar por algun otro lado. Tendremos que considerar esto al momento de hacer nuestras simulaciones, sobre todo al darle el valor al parámetro $p$, la probabilidad de acceso en las rampas de entrada. Sin embargo no creemos que esto tenga un gran efecto en la dinámica, especialmente por el segundo punto, explicado a continuación.\n",
    "\n",
    "La construcción de una vía rápida a un lado del libramiento dedicado especialmente al tránsito local hará que la densidad de vehículos tipo 2 descienda drásticamente en días laborales. Esto tiene también un efecto importante en el número de coches que habrá en el libramiento, por lo que un pequeño aumento en $p$ (tal como se expone en el párrafo anterior) no debería de afectar notoriamente la carretera. \n",
    "\n",
    "Por otro lado, debido a que el tránsito local optará por los nuevos carriles, la densidad de vehículos tipo 2 en el tramo estudiado descenderá. Sin embargo, ¿qué pasará con los vehículos tipo 1?\n",
    "\n",
    "Para responder esto, recordemos que este tramo carretero forma parte del puente transoceánico entre el puerto de Acapulco y el puerto de Veracruz, pasando por la Ciudad de México. Este hecho nos hace pensar que el número de camiones de carga **no** descenderá por las obras realizadas sino que se mantendrá prácticamente constante, debido a que la ciudad de Cuernavaca o sus alrededores no resulta ser el destino final de la gran mayoría de los camiones de carga. Esto provocará que la proporción de camiones con respecto al número total de vehículos en el libramiento aumente a comparación del mismo tramo carretero antes de las obras. Esto puede potencialmente cambiar la dinámica de los vehículos dentro del libramiento."
   ]
  },
  {
   "cell_type": "markdown",
   "metadata": {},
   "source": [
    "Hasta este momento hemos construido el modelo en el cual nos basaremos para hacer nuestra simulación. Hemos explicado los principios teóricos y ahora el *lugar* donde los vehículos circularán. \n",
    "\n",
    "Con esto estamos finalmente preparados para realizar las simulaciones e interpretar los resultados que estas nos darán. En el siguiente capítulo presentaremos tanto los resultados como los procedimientos experimentales que seguimos para obtenerlos."
   ]
  },
  {
   "cell_type": "code",
   "execution_count": null,
   "metadata": {
    "collapsed": true
   },
   "outputs": [],
   "source": []
  }
 ],
 "metadata": {
  "kernelspec": {
   "display_name": "Julia 0.3.5",
   "language": "julia",
   "name": "julia-0.3"
  },
  "language_info": {
   "name": "julia",
   "version": "0.3.5"
  }
 },
 "nbformat": 4,
 "nbformat_minor": 0
}
