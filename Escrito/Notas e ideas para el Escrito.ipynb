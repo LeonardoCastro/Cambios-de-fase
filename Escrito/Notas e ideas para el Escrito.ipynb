{
 "cells": [
  {
   "cell_type": "markdown",
   "metadata": {},
   "source": [
    "+ Automatas Celulares // Wolfram \n",
    "+ Hablar de los modelos existentes\n",
    "+ Modelo NaSch // NaSch [50]\n",
    "+ flujo - velocidad - densidad //\n",
    "+ Herramientas de Fisica Estadistica // Nagel [49], Chowdhury [11]\n",
    "+ modelo microscopico / modelo macroscopico\n",
    "+ Estabilidad Equiblibrio y fluctuaciones // del Rio [16]\n",
    "+ car-following model e intuicion del modelo (adaptacion a la realidad) // Reuschel y Pipes [55, 57]\n",
    "+ particle hopping model y relacion con AC // Nagel [49]\n",
    "+ diferencia entre los dos modelos (discretización del tiempo y espacio)"
   ]
  },
  {
   "cell_type": "markdown",
   "metadata": {},
   "source": [
    "Ideas para introduccion\n",
    "\n",
    "+ Coches automatizados de google y apple\n"
   ]
  },
  {
   "cell_type": "markdown",
   "metadata": {},
   "source": [
    "Cosas por buscar\n",
    "\n",
    "+ Particle Hopping entre dinámica de fluidos y car following // [12] y [61]\n",
    "+ Phase Transition from laminar flow to star-stop-waves with increasind car density // Kühne R, In Highway Capacity and Level of Service, U. Brannolte Ed., Proc. Int. Symp Highway Capacity, Karlsruhe (Rotterdam: Balkema, 1991)\n",
    "+ Rampas /Schreckenberg y Schadschneider, 1993)\n",
    "+ Relación entre entropía, equilibrio y desviación estándar"
   ]
  },
  {
   "cell_type": "markdown",
   "metadata": {},
   "source": [
    "Propuesta de índice\n",
    "\n",
    "+ Introducción ( Sistemas Complejos -> Modelos de Tráfico Vehicular)\n",
    "+ Modelo Teórico ( AC -> NaSch -> Nuestro módelo )\n",
    "+ La carretera y las mediciones\n",
    "+ Resultados\n",
    "+ Conclusión\n"
   ]
  },
  {
   "cell_type": "markdown",
   "metadata": {},
   "source": [
    "### Índice"
   ]
  },
  {
   "cell_type": "markdown",
   "metadata": {},
   "source": [
    "**Introducción**\n",
    "\n",
    "+ Sistemas Complejos en general\n",
    "+ Modelos de Tráfico Vehicular\n",
    " + car following - particle hop - NaSch \n",
    " + Trabajo Computacional\n",
    " + Perspectiva desde la física estadística \n",
    " + Comentario sobre el trabajo experimental y rigurosidad dentro del trabajo computacional\n",
    " + ¿Física experimental/teórica?¿Nuevo tipo de física?\n",
    " + Perspectivas de los modelos a futuro (coches automatizados de Google y Apple)\n",
    "+ Introducción de la problemática en Cuernavaca\n",
    " + Trabajo hecho por María Elena y Antonio\n",
    " + Trabajos actuales de parte del Gob Fed\n",
    "+ Preguntas sobre las cuales trabajaremos\n",
    "\n"
   ]
  },
  {
   "cell_type": "markdown",
   "metadata": {},
   "source": [
    "**Modelo Teórico**\n",
    "\n",
    "+ AC\n",
    "+ Modelo de NaSch\n",
    "+ Modelo de María Elena (Seguridad y cambios de carril)\n",
    "+ Adaptaciones hechas al modelo"
   ]
  },
  {
   "cell_type": "markdown",
   "metadata": {},
   "source": [
    "**La Simulación**\n",
    "\n",
    "+ Presentación de la carretera\n",
    " + Topología\n",
    " + Entradas y Salidas\n",
    " + Curvas\n",
    "+ Procedimiento experimental\n",
    " + Donde y como se midió dentro de la simulación\n",
    " + Procedimiento experimental (número de mediciones, errores/desviaciones estándar)\n",
    " + Comentario sobre la falta de datos / falta de infraestructura)"
   ]
  },
  {
   "cell_type": "markdown",
   "metadata": {},
   "source": [
    "**Resultados**\n"
   ]
  },
  {
   "cell_type": "markdown",
   "metadata": {},
   "source": [
    "**Conclusiones**"
   ]
  },
  {
   "cell_type": "code",
   "execution_count": null,
   "metadata": {
    "collapsed": true
   },
   "outputs": [],
   "source": []
  }
 ],
 "metadata": {
  "kernelspec": {
   "display_name": "Julia 0.3.5",
   "language": "julia",
   "name": "julia-0.3"
  },
  "language_info": {
   "name": "julia",
   "version": "0.3.5"
  }
 },
 "nbformat": 4,
 "nbformat_minor": 0
}
