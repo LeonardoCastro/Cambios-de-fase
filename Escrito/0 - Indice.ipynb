{
 "cells": [
  {
   "cell_type": "markdown",
   "metadata": {},
   "source": [
    "Aquí mostramos el índice que seguirá el escrito de la tesis. Aquellos capítulos que por el momento no estén terminados estarán detallados con las ideas que estarán presentes a la hora de escribir. "
   ]
  },
  {
   "cell_type": "markdown",
   "metadata": {},
   "source": [
    "1. Introducción\n",
    "\n",
    "    + Sistemas complejos\n",
    "    \n",
    "    + Tránsito vehicular como sistema complejo\n",
    "    \n",
    "    + Introducción al problema de tránsito vehicular con autómatas celulares\n",
    "    \n",
    "    + Introducción al problema en Cuernavaca y trabajos ya hechos\n",
    "    \n",
    "    + Preguntas sobre las cuales trabajaremos\n",
    "\n",
    "2. Bases teóricas\n",
    "\n",
    "    2.1 Espacio y tiempo en carreteras\n",
    " \n",
    "    2.2 La relación fundamental\n",
    " \n",
    "        2.2.1 Flujo y velocidad\n",
    "  \n",
    "        2.2.2 Densidad y ocupancia\n",
    "    \n",
    "    2.3 Autómatas Celulares\n",
    "\n",
    "        2.3.1 Fronteras cerradas y peródicas\n",
    "    \n",
    "        2.3.2 Fronteras abiertas\n",
    "    \n",
    "    2.4 Comentarios finales (modelos macroscópicos, microscópicos y mesoscópicos)\n",
    "    \n",
    "3. Modelos basados en autómatas celulares\n",
    "\n",
    "    3.2 El modelo probabilista de Nagel-Schreckenberg (NaSch)\n",
    "    \n",
    "        3.2.1 Reglas de transición\n",
    "    \n",
    "    3.3 Modelo con anticipación y medidas de seguridad\n",
    "    \n",
    "        3.3.1 Parámetro de anticipación\n",
    "    \n",
    "        3.3.2 Comentarios\n",
    "    \n",
    "    3.4 Modelo de anticipación en un sistema multicarril\n",
    "    \n",
    "        3.4.1 Reglas simétricas, asimétricas y camiones\n",
    "    \n",
    "    3.5 Simulando rampas de entrada, salida y fronteras abiertas\n",
    "    \n",
    "        3.5.1 Rampas\n",
    "    \n",
    "            + Rampas de salida\n",
    "        \n",
    "            + Rampas de entrada\n",
    "       \n",
    "        3.5.2 Fronteras abiertas\n",
    "    \n",
    "    3.6 El modelo completo\n",
    "    \n",
    "4. La carretera\n",
    "\n",
    "    4.1 Datos generales\n",
    "    \n",
    "    4.2 Rampas de entrada y salida\n",
    "    \n",
    "    4.3 Curvas y pendiente\n",
    "    \n",
    "    4.4 Trabajos de ampliación\n",
    "    \n",
    "5. Resultados\n",
    "\n",
    "    5.1 Resultados para el estado actual de la carretera\n",
    "    \n",
    "    5.2 Resultados para la carretera ampliada\n",
    "    \n",
    "6. Conclusiones\n",
    "\n",
    "7. Referencias\n",
    "\n",
    "8. Apéndice\n"
   ]
  },
  {
   "cell_type": "code",
   "execution_count": null,
   "metadata": {
    "collapsed": true
   },
   "outputs": [],
   "source": []
  }
 ],
 "metadata": {
  "kernelspec": {
   "display_name": "Julia 0.3.12-pre",
   "language": "julia",
   "name": "julia-0.3"
  },
  "language_info": {
   "name": "julia",
   "version": "0.3.12"
  }
 },
 "nbformat": 4,
 "nbformat_minor": 0
}
