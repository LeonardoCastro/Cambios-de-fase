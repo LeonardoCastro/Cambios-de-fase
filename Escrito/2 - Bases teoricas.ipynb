{
 "cells": [
  {
   "cell_type": "markdown",
   "metadata": {},
   "source": [
    "Si bien existen un gran número de modelos de tránsito vehícular, cada uno de estos se basa en algunos cuantos conceptos y variables ya conocidas en física. Así que antes de construir el modelo en el cual nos basaremos para realizar este trabajo, hablaremos un poco de los distintos conceptos teóricos los cuales encontraremos y a los cuales recurriremos para el posterior análisis. Distinguiremos primeramente dos tipos de variables: aquellas que son características de *un* vehículo, tales como la posición o la velocidad, y aquellas estadísticas, como el flujo o la densidad. Al hablar de estas últimas en general hablaremos de *promedios* en un espacio o en un periodo de tiempo.\n",
    "\n",
    "Con respecto al hecho de *promediar*, es importante recordar que las mediciones se harán computacionalmente, por lo que es necesario ponderar que tipo de promedio nos permite reducir costos computacionales, al igual que tener datos confiables. El hecho de conocer sobre qué bases teóricas se basan los modelos y *cómo* evolucionan en el tiempo puede ser bastante útil.\n",
    "\n",
    "El desarrollo y aplicaciones que han tenido los autómatas celulares ofrecen una herramienta sólida y desarrollada a partir de la cual podemos construir un buen modelo de tránsito vehícular. Sin embargo es necesario un pequeño análisis de estos para conocer sus propiedades y caracerísticas.\n",
    "\n",
    "De esta manera, pasemos al análisis de todas aquellas variables y conceptos con los cuales trabajaremos a lo largo de estos capítulos."
   ]
  },
  {
   "cell_type": "markdown",
   "metadata": {},
   "source": [
    "## 2.1 Espacio y tiempo en carreteras"
   ]
  },
  {
   "cell_type": "markdown",
   "metadata": {
    "collapsed": true
   },
   "source": [
    "No nos adelantemos y empecemos por lo más básico: la posición y el tiempo. En este trabajo el tiempo será discreto, cambiando según una $\\Delta t$. La posición del vehículo en una carretera estará dada por $x(t)$, siendo esta también discreta y cambiando con una $\\Delta x$. \n",
    "\n",
    "A partir de aquí ya podemos realizar un poco de análisis con respecto al tráfico vehícular. Si graficamos la trayectoria que sigue un coche con respecto al tiempo, tendremos un diagrama *espacio-temporal* el cual es tan común al analizar este tipo de sistemas. En la Figura 1 encontraremos un ejemplo de estos diagramas en los que podemos observar la trayectoria que siguen dos coches desde distintas posiciones iniciales. El primer coche (recta superior) tiene como posición inicial una $x(0)>0$. Si analizásemos esta situación podríamos suponer que la dinámica aquí observada ha empezado cuando el coche ya ha recorrido un cierto tramo en la carretera aquí representada, por lo que este tendría no sólo una cierta posición inicial, sino también una velocidad inicial. El segundo coche entra al sistema algún tiempo después también con una velocidad inicial. Esto último hace pensar que la carretera aquí presentada no es más que un *tramo*, por lo que este segundo coche entraría a este después de haber estado en otro tramo de la carretera antes. \n",
    "\n",
    "<img src=Figuras/Espacio-Tiempo1.png align=center>\n",
    "<h4 align=center> Figura 1. Diagrama espacio-temporal representando la trayectoria de dos coches.</h4>\n",
    "\n",
    "Las dos líneas rectas en la gráfica son paralelas, a partir de lo cual obtenemos la información de que los dos vehículos realizaron su trayectoria con una velocidad *constante* e *iguales* entre uno y el otro.\n",
    "\n",
    "El problema del diagrama espacio-temporal de la Figura 1 es que los dos coches no parecen interactuar entre ellos, sin embargo no es que no haya interacción entre ellos, sino que la distancia entre ellos y el hecho de que hayan tenido la misma velocidad constante durante toda la dinámica hace que la interacción parezca nula. Pero si ahora complicamos un poco más el problema y añadimos muchos más coches, entonces la *dinámica* entre el conjunto de estos se hará más notoria y complicada. Este tipo de comportamiento es esquematizado en la figura siguiente. \n",
    "\n",
    "<img src=Figuras/Espacio-Tiempo2.png align=center>\n",
    "<h4 align=center> Figura 2. Esquema de un diagrama espacio-temporal en el cual se representan las trayectorias de un gran número de vehículos.</h4>\n",
    "\n",
    "Como se puede observar en la Figura 2, las velocidades de los vehículos cambian a lo largo del tiempo debido a las interacciones con los demás, haciendo que la dinámica se vuelva un tanto compleja. Sin embargo en la Figura 2 no se puede identificar algún suceso lo suficientemente relevante para comentarlo, sino que esta fue colocada para fines ilustrativos. El lector podrá encontrar un diagrama espacio-temporal obtenido de un modelo sencillo (NaSch) el cual será comentado el capítulo siguiente. Este diagrama obedece a una dinámica observada en una simulación. Vale la pena tomarse un momento para analizar aquello visto en él para demostrar el poder de los diagramas espacio-temporales\n",
    "\n",
    "<img src=Figuras/Propagacion.png align=center>\n",
    "<h4 align=center> Figura 3. Propagación de un frente de velocidad 0 en el tiempo.</h4>\n",
    "\n",
    "En la figura recién presentada podemos observar la propagación de un frente de velocidad $0$. ¿Qué significa eso? Supongamos que por una razón aleatorio, un determinado coche se frena *completamente* en la carretera. Esto lo podemos ver en las partes completamente horizontales de las trayectorias en el diagrama espacio-temporal. Puesto que ya mencionado vehículo frena completamente, el coche de atrás se verá también forzado a frenar. En este caso, el frenado del segundo coche es también total. \n",
    "\n",
    "De esta manera los coches que estén atrás tendrán la misma suerte. Sin embargo, el lugar en el cual son forzados a frenar va reculando en el espacio. Así, decimos que el frente de velocidad $0$ se propaga hacia atrás. \n",
    "\n",
    "Algo curioso de esto es que unos segundos después de haber frenado totalmente, nuestro coche \"origen\" sigue su trayectoria (al igual que todos, de hecho), esto aún cuando el frente sige progagándose. Los vehículos a unos cientos de metros se verán forzados a frenar deteniendo el tráfico y provocando un mini-embotellamiento, y sin embargo nunca se entararán de qué provocó esto. ¿Suena conocido?\n",
    "\n",
    "La dinámica de una carretera puede provocar fenómenos y efectos más complicados, por lo que necesitaremosa apoyarnos de otras herramientas teóricas. Estas pueden venir de otras teorías físicas, como por ejemplo de la dinámica de medios granulares."
   ]
  },
  {
   "cell_type": "markdown",
   "metadata": {},
   "source": [
    "## 2.2 La relación fundamental"
   ]
  },
  {
   "cell_type": "markdown",
   "metadata": {},
   "source": [
    "A parte de la posición, el tiempo y la velocidad, en análisis de tránsito vehicular se han de introducir otras variables. Estas son ya altamente conocidas y no tienen mayor dificultad. Sin embargo la manera de medir en sistemas de tráfico y obtener algunas informaciones se puede volver complicado computacionalmente. También está el problema, en sistemas de longitud muy grande, de dónde medir. Con esto último nos referimos a que el medir la velocidad promedio de una carretera de 100km no nos dará mucha información. Al contrario, si dividimos la carretera en 100 pequeños tramos de 1km, y medimos en cada uno de ellos la veloidad promedio, entonces sí podremos obtener mayor información y detalle a la hora de analizar la carretera.\n",
    "\n",
    "Esta división será lo que haremos en nuestros sistemas. Sin embargo el medir en estas secciones ocasiona otra pregunta. Por un lado podríamos medir en secciones temporales ($R_t$ en la figura 2), lo cual se vuelve práctico al medir flujos. Por otro lado podríamos medir en secciones espaciales ($R_s$ en la figura 2). Este último método se vuelve conveniente a la hora de medir densidades, sin embargo computacionalmente puede ser más costoso.\n",
    "\n",
    "En el programa hecho nos decantamos por medir en secciones temporales, en especial por las ventajas computacionales que conlleva. De esta manera, Al final de cada uno de los carriles de las secciones que habrá en nuestra carretera se encontrará un \"detector\" o \"sensor\" con el cual mediremos todas aquellas informaciones que nos interesen. Veamos ahora en detalle las variables que obtendremos en cada uno de los sensores."
   ]
  },
  {
   "cell_type": "markdown",
   "metadata": {},
   "source": [
    "### 2.2.1 Flujo y velocidad"
   ]
  },
  {
   "cell_type": "markdown",
   "metadata": {},
   "source": [
    "Un vehículo está caracterizado por su posición y su velocidad $( \\ x(t), v(t) \\ )$ en cada paso de tiempo $t$. Cada vehículo empieza en la simulación con una posición y una velocidad inicial. La dinámica del sistema será esencialmente el desarrollo de estas dos variables a lo largo de la simulación para cada uno de los vehículos en esta.\n",
    "En el tipo de modelo que se trabajará la velocidad está discretizada, teniendo como mínimo $v=0$ y un límite $v_{max}$, por lo que esta no será calculada indirectamente a partir de la relación $\\Delta x / \\Delta t$, sino que será calculada directamente a cada paso del tiempo según las interacciones con otros vehículos.\n",
    "\n",
    "De hecho, la dinámica de la velocidad de cada uno de los vehículos es primordial. Como se verá más adelante, las reglas de transición del sistema entre un tiempo $t$ y otro $t+\\Delta t$ afectan inicialmente la velocidad de cada automóvil. Una vez que la velocidad $v_{t+\\Delta t}$ haya sido calculada, entonces lo siguiente será mover a cada uno de los vehículos acorde a su nueva velocidad. Sin embargo, todo esto será analizado a detalle más adelante en este y en el siguiente capítulo. \n",
    "\n",
    "Puesto que cada vehículo se caracteriza en parte por su velocidad, el recopilar cada una de ellas se vuelve trivial. Sin embargo más interesante sería obtener la velocidad promedio. El cálculo de esta es muy sencillo y consiste en medir el promedio de las velocidades de todos aquellos vehículo que pasaron por el sensor a lo largo de un cierto periodo de tiempo $T$.\n",
    "\n",
    "De esta manera, en cada sensor y para cada periodo de tiempo $T$ tenemos que la velocidad promedio está dada por \n",
    "\n",
    "$$v_T=\\frac{1}{N_T}\\sum_i^{N_T}{v_i}$$\n",
    "\n",
    "donde $N_T$ es el número de vehículos que pasaron por dicho sensor en el periodo de tiempo $T$. Las unidades locales de la velocidad son *celdas/paso de tiempo*, donde las *celdas* denotan la unidad discreta del espacio.\n",
    "\n",
    "Si bien la velocidad promedio nos puede decir qué tan rápido pasaron los vehículos en un cierto periodo de tiempo $T$, también es interesante saber *cuántos* vehículos pasaron en el mismo periodo de tiempo. Para esto podríamos medir el *flujo*."
   ]
  },
  {
   "cell_type": "markdown",
   "metadata": {},
   "source": [
    "El flujo en teoría de tránsito vehícular se define como el número de vehículos que pasaron por una cierta región transversal en el espacio  en un cierto periodo $T$. Para una carretera multi-carril podemos entonces medir el flujo de vehículos en uno, dos o más carriles en un cierto periodo de tiempo $T$. De esta manera no es muy difícil definirlo como \n",
    "$$j=\\frac{N_T}{T \\ N_{carriles}}$$\n",
    "\n",
    "donde $N_{carriles}$ es el número de carriles en los que se hizo la medición. De esta manera las unidades tipicas del flujo son *vehículos por paso de tiempo y carril*. En realidad tanto para la velocidad promedio como para la densidad los carriles forman parte de sus unidades, sin embargo puesto que en este trabajo las mediciones fueron hechas en un carril individual, omitiremos a estos en las unidades. Así, consideraremos que las unidades del flujo son *vehículos por paso de tiempo*.  \n",
    "\n",
    "En cada periodo de tiempo $T$ cada sensor sólo habrá de contar el número de coches que pasan por él para así obtener el flujo.\n",
    "\n",
    "El valor del flujo puede llegar a ser un poco engañoso. Por ejemplo, si sólo tuviéramos como información el flujo con un pequeño valor (en un cierto sensor y a un cierto tiempo dado $t$), esto podría significar que en la carretera hay una pequeña cantidad de autos que irán tendencialmente a gran velocidad y que pasen por los sensores esporádicamente. Aunque por otro lado estos pequeños valores de flujo podrían significar también que hay un congestionamiento tan grande que los automóviles tardan mucho tiempo en atravesar el sensor, resultando igualmente en un flujo esporádico.\n",
    "\n",
    "En dinámica de medios deformables y granulares encontramos la relación $j \\propto v$, donde en general $j=\\rho v$ con $\\rho$ la densidad promedio. ¿Podríamos pensar que esta relación también es válida para tránsito vehícular? Para responder esa pregunta habremos de analizar primero la densidad."
   ]
  },
  {
   "cell_type": "markdown",
   "metadata": {},
   "source": [
    "### 2.2.2 Densidad y ocupancia"
   ]
  },
  {
   "cell_type": "markdown",
   "metadata": {},
   "source": [
    "La densidad se define habitualmente como el número de vehículos en un cierto espacio. Las unidades serían lógicamente *vehículos por celda*. Sin embargo esta definición es válida cuando se mide la densidad en una zona espacial, ¿pero qué pasa entonces con la densidad cuando se mide en una zona temporal?\n",
    "\n",
    "Habrá entonces que hacer una redefinición de la densidad. En [5], el autor la redefine como \"el tiempo total que pasan todos los vehículos en la zona de medición entre el área de esta\". En otras palabas,\n",
    "\n",
    "$$\\rho= \\frac{N_T \\ \\sum_i^{N_T}{\\Delta t_i}}{T \\ \\Delta x}= \\frac{N_T}{T}\\sum_i^{N_T}{\\frac{\\Delta t_i}{\\Delta x}}$$\n",
    "\n",
    "Donde $\\Delta t_i$ es el tiempo que le tomo al vehículo $i$ el recorrer $\\Delta x$. Por otro lado, tenemos que $\\Delta t_i \\big/ \\Delta x$ no es más que el inverso de la velocidad de los coches que pasan por la zona de medición, obteniendo finalmente que \n",
    "\n",
    "$$\\rho = \\frac{N_T}{T}\\sum_i^{N_T}{\\frac{1}{v_i}}$$\n",
    "\n",
    "Ya hemos obtenido una expresión para la densidad la cual sea consistente con nuestra manera de medir. Con ella podemos ahora hacer que los sensores midan la velocidad de cada vehículo, para luego hacer un sencillo cálculo."
   ]
  },
  {
   "cell_type": "markdown",
   "metadata": {},
   "source": [
    "En la vida real los sensores existentes sólo realizan mediciones temporales (dándole sustento a nuestro forma de medir), por lo que el parámetro calculado por estos no es exactamente la densidad tal cual la acabamos de ver, sino un parámetro llamado *ocupancia* que corresponde a la fracción de tiempo durante la cual un coche pasa frente al sensor con respecto al tiempo de medición $T$. En otras palabras, el porcentaje de tiempo que un coche estuvo frente al sensor, esto puede definirse también como\n",
    "\n",
    "$$\\widetilde{\\rho}=\\frac{1}{T}\\sum_i^{N_T}{\\tau_i}$$\n",
    "\n",
    "donde $\\tau_i$ es el tiempo que el vehículo $i$ está frente al sensor y está dado por \n",
    "\n",
    "$$\\tau_i=\\frac{l_i}{v_i}$$\n",
    "\n",
    "donde $l_i$ es la longitud del coche. Sin embargo, en nuestro modelo, y tal cual se verá en el capítulo siguiente, $l_i=1$, por lo que finalmente en nuestro caso\n",
    "\n",
    "$$\\widetilde{\\rho}= \\frac{1}{N_T}\\rho$$\n",
    "\n",
    "Decidimos hacer este pequeño análisis puesto que el parámetro de ocupancia frecuentemente utilizado en análisis de tránsito vehicular, y para otros trabajos la relación anterior no es necesariamente cierta.\n",
    "\n",
    "(en [5] se obtiene la relación general $\\widetilde{\\rho}= \\frac{l_i}{N_T} \\ \\rho$)"
   ]
  },
  {
   "cell_type": "markdown",
   "metadata": {},
   "source": [
    "Regresemos a la pregunta final de la sección pasada. ¿Es cierta la relación $j=\\rho v$? para esto calcularemos el cociente entre el flujo y la densidad.\n",
    "\n",
    "$$\\begin{align}\n",
    "\\frac{j}{\\rho} &= \\frac{N_T}{T} \\Big/ \\frac{T}{N_T \\ \\sum{1/v_i}} \\\\\n",
    "                &= \\frac{1}{\\sum{1/v_i}} \\\\\n",
    "                &= \\frac{\\sum{1/N_T}}{\\sum{1/v_i}} \\\\\n",
    "                &= \\frac{1}{N_T}\\sum_i^{N_T}{v_i} \\\\\n",
    "                &= v_T\n",
    "\\end{align}$$\n",
    "\n",
    "De esta manera llegamos a la relación fundamental del tránsito vehicular\n",
    "\n",
    "$$j = \\rho v$$\n",
    "\n",
    "El adjetivo fundamental no es gratuito y se debe en parte a que a partir de esta relación podemos describir y analizar la dinámica del sistema. De hecho a partir de esta relación es que podemos introducir otro diagrama el cual será una gran herramienta para describir la dinámica de la carretera. A este diagrama se le llama *fundamental*, y en él encontramos la relación ente el flujo y la densidad."
   ]
  },
  {
   "cell_type": "markdown",
   "metadata": {},
   "source": [
    "<img src=Figuras/Diagrama-fundamental.png align=center>\n",
    "<h4 align=center> Figura 4. Diagrama Fundamental resultado del modelo de NaSch. Podemos observar la transición de fase. Los puntos son datos promediados cada 100 iteraciones. La línea es un promedio cada millón de iteraciones.</h4>\n",
    "\n",
    "En la figura 4 observamos un diagrama fundamental obtenido del mismo modelo con el que mostramos el diagrama espacio-temporal de la figura 3. En este diagrama fundamental encontramos los grandes rasgos que estarán en prácticamente todos los de su tipo. En primer lugar observamos dos regímenes, uno con pendiente positiva, y otro con pendiente negativa (promedio). \n",
    "\n",
    "Aquella con pendiente positiva es la zona llamada de \"flujo libre\". La dinámica en esta zona obedece a su nombre, encontrando un flujo sin estancamientos donde los vehículos pueden transitar a una gran velocidad. Sin embargo esta zona tiene un máximo a partir del cual la pendiente se vuelve negativa. En esta segunda zona empezamos a encontrar congestionamientos de todo tipo de intensidades. En un acto de creatividad, esta segunda zona es llamada \"zona de congestionamiento\". \n",
    "\n",
    "¿Qué significado tiene el punto máximo en el cual se realiza el cambio de fase? \n",
    "\n",
    "En todo el diagrama fundamental observamos la evolución del flujo con respecto a la densidad. De esta manera, en la zona de flujo libre, la densidad puede aumentar lo suficiente permitiendo a aquellos vehículos dentro de la carretera circular a una gran velocidad sin mayor problema. \n",
    "\n",
    "Sin embargo al llegar al punto de flujo máximo, el aumentar la densidad saturará la carretera, teniendo como consecuencia que el flujo libre desaparezca y congestionamientos se produzcan. Siguiendo esto, el introducir más vehículos en la carretera (i.e. al aumentar la densidad) los congestionamientos serán más frecuentes y de mayor intensidad.\n",
    "\n",
    "El factor importante en este análisis es la densidad en la cual se realiza el cambio de fase y obtenemos un flujo máximo. A este último se le conoce como *la capacidad* del sistema y se refiere al número máximo de vehículos que una carretera puede albergar sin que haya congestionamientos. La capacidad de una carretera es un parámetro importante para el análisis de tránsito vehicular. Como ejemplo, si en nuestro caso al analizar la ampliación que el gobierno realizará en el libramiento de Cuernavaca, el comparar las capacidades del libramiento antes y después de la ampliación nos dará una idea de qué tanto resolverá el problema de congestionamientos en el tramo."
   ]
  },
  {
   "cell_type": "markdown",
   "metadata": {},
   "source": [
    "Hasta el momendo hemos presentado y analizado las variables que mediremos y utilizaremos a lo largo de nuestro trabajo. Estas variables son ampliamente conocidas en el ámbito físico y de la física, por lo que algunas de ellas no causaron ningún problema. Sin embargo el hecho de realizar mediciones temporales tuvo que ser descrito y nos obligó a redefinir la densidad. \n",
    "\n",
    "Ahora es tiempo de pasar a presentar algunos entes nuevos -en todo caso para el autor- a partir de los cuales se basan aquellos modelos utilizados posteriormente. "
   ]
  },
  {
   "cell_type": "markdown",
   "metadata": {},
   "source": [
    "## 2. 3 Autómatas Celulares"
   ]
  },
  {
   "cell_type": "markdown",
   "metadata": {},
   "source": [
    "Los autómatas celulares (A.C.) son un ente matemático el cual fue concebido en la década de 1940 por Ulam von Neumann. Tiempo después, Stephen Wolfram retomó la idea y mostró -ya con el poder computacional de los 80's- todo el poder que traen consigo los autómatas celulares. \n",
    "\n",
    "Hoy en día estos entes son utilizados ampliamente en el estudio de sistemas complejos, debido a la simplicidad en su definición y a la complejidad de su comportamiento desarrollado por pequeñas reglas. \n",
    "\n",
    "Los autómatas celulares conforman un arreglo espacial discreto y se desarrollan en un tiempo igualmente discreto. Cada celda espacial del arreglo tiene un conjunto de estados, como por ejemplo su posición y su velocidad.\n",
    "\n",
    "El desarrollo de los A.C. viene dado por simples reglas las cuales son aplicadas en cada paso de tiempo a todo el arreglo espacial. A estas reglas se les conoce como *reglas de transición* y definen la *dinámica* del sistema.\n",
    "\n",
    "\n",
    "En 1992, Nagel y Schreckenberg presentaron un primer modelo de tránsito vehicular con reglas estocásticas basado en autómatas celulares. Este modelo ha sido bastante exitoso y es de hecho la base de nuestro modelo.\n",
    "\n",
    "El arreglo espacial de los A.C. se vuelve de esta manera la carretera con los vehículos adentro. Cada una de las celdas de la carretera está caracterizada por un conjunto de estados como la posición $x(t)$ y la velocidad $v(t)$ o el tipo de vehículo.\n",
    "\n",
    "El conjunto de reglas de transición $\\mathbf{\\phi}$ son aplicadas a cada una de las celdas de nuestro arreglo a cada  paso de tiempo $t$, y son estas las que calculan los estados en $t+\\Delta t$. Sin embargo, tal como ya hemos dicho anteriormente, el estado de una celda $i$ al tiempo $t+\\Delta t$ no depende únicamente de ella misma al tiempo $t$, sino de todo un grupo de celdas y de la interacción que hay entre estas. De esta manera decimos que si para un sistema de A.C. $\\{ \\alpha_i(t) : i \\in \\mathbb{Z} \\}$, entonces para un cierto estado $\\alpha$, \n",
    "$$ \\alpha_i(t+1)= \\mathbf{\\phi}(\\alpha_{i-r}(t), \\dotsc, \\alpha_i(t), \\dotsc, \\alpha_{i+r}(t)), \\ r \\in \\mathbb{N}$$\n",
    "\n",
    "En el caso específico de nuestro modelo de tránsito vehicular tenemos que para un vehículo $i$, la vecindad con la cual interactuará será aquella conformada de él mismo y el vehículo más cercano frente a él . En otras palabras, si $d_i$ es la distancia entre el vehículo $i$ y el vehículo más cercano a él en la dirección de movimiento, entonces\n",
    "$$ \\alpha_i(t+1) = \\mathbf{\\phi}( \\alpha_i(t), \\alpha_{i+d_i}(t))$$\n",
    "\n",
    "A este tipo de modelo se le conoce como \"car following\" debido a que la dinámica individual de un carro depende de él mismo y de aquel adelante de él. Es importante decir que por el momento este formalismo y las reglas de transición pueden parecer un poco abstactas, sin embargo estas serán tratadas ampliamente en el capítulo siguiente. Por ahora sigamos trabajando con las propiedades y caracteristivas de los A.C.."
   ]
  },
  {
   "cell_type": "markdown",
   "metadata": {},
   "source": [
    "Un asunto extremadamente relevante al tratar con autómatas celulares es el tipo de fronteras que el sistema tendrá. En general distinguimos dos tipos de fronteras: abiertas y cerradas.\n",
    "\n",
    "Dentro de las fonteras cerradas podemos tener aquellas reflejantes (gas en una caja), aquellas absorbentes o adherente en las que una partícula se adhiere a las fronteras cuando hay una colisión, y aquellas fronteras periódicas. \n",
    "Para el análisis de tránsito de vehículos no buscamos que estos cambien de dirección de movimiento, ni que se queden en alguna frontera al colisionar con esta.\n",
    "\n",
    "En este sentido el caso de la frontera periódica se vuelve interesante puesto que puede ser representada por un circuito de carreras. Así podríamos obtener la dinámica de un conjunto de coches cuando estos son colocados en un circuito cerrado. \n",
    "\n",
    "Las fronteras abiertas son en algún sentido más sencillas, puesto que los vehículos que pasan por ellas simplemente salen del sistema, sin dejar ningún rastro de ellos (aparentemete) dentro de él. Este tipo de arreglos con fronteras abiertas son representados como el tomar cualquier tramo de una carretera y analizarlo. La dinámica será aquella que se desarrolle dentro del sistema.\n",
    "\n",
    "Sin embargo las primeras apariencias pueden ser angañosas, y mientras que algunos fenómenos son explicados más sencillamente en circuitos cerrados, en tramos con fronteras abiertas pueden estos mismos fenómenos pueden tornarse más complejos. A continuación analizaremos estos."
   ]
  },
  {
   "cell_type": "markdown",
   "metadata": {},
   "source": [
    "### 2. 3. 1 Fronteras cerradas y periódicas"
   ]
  },
  {
   "cell_type": "markdown",
   "metadata": {},
   "source": [
    "Al tener fronteras cerradas, el sistema no se ve afectado por exteriormente. Como consecuencia podemos decir que el número de coches será constante y por lo tanto la densidad promedio. \n",
    "\n",
    "A este tipo de sistemas les llamamos adiabáticos, de tal manera que no habrá coches entrando ni saliendo, ni parámetros como $R$ o $\\alpha$ que cambien en el tiempo. Así, tal como un sistema termodinámico, podremos llegar a un estado de equilibrio.\n",
    "\n",
    "Sin embargo las cosas no son tan sencillas para el caso de fronteras abiertas.\n",
    "\n",
    "**Nota:** En YouTube se pueden encontrar videos muy lindos sobre propagación de puntos de baja velocidad en sistemas periódicos. Un ejemplo de ellos está [aquí](https://www.youtube.com/watch?v=Suugn-p5C1M&list=PLNF01T_E1dPHErBuxuimkwecrMIM8fDco&index=1) o al buscar \"Shockwave traffic jams recreated for the first time\" de \"New Scientist\" en Youtube."
   ]
  },
  {
   "cell_type": "markdown",
   "metadata": {},
   "source": [
    "### 2.3.2  Fronteras abiertas"
   ]
  },
  {
   "cell_type": "markdown",
   "metadata": {},
   "source": [
    "El hablar de un sistema adiabático en un sistema con fronteras abiertas es un poco más complicado. Si suponemos que no hay rampas de entrada o salida, entonces el único lugar por el que los coches pueden entrar es por la frontera izquierda (suponiendo que la dirección de tránsito es de izquierda a derecha), mientras que estos  mismo coches sólo pueden salir es la frontera derecha. Sin embargo la condición de adiabaticidad se da cuando las *dos* fronteras tienen las mismas restricciones (o falta de ellas).\n",
    "\n",
    "Con restricciones nos referimos a alguna condición en cualquier frontera que no permita salir o entrar a todos los coches que se desee. Un ejemplo en la vida real sería una caseta, tal cual se muestra en [1].\n",
    "\n",
    "En el caso en que no haya restricciones en ninguna frontera entonces el sistema será adiabático. Sin embargo, el hecho de implementar además rampas de entrada o salida -i.e. alteraciones externas al sistema- hará que el sistema deje de serlo. Este es el caso de nuestro trabajo.\n",
    "\n",
    "Del párrafo anterior habrá dos cosas que analizar. En un primer tiempo, analicemos un poco más el caso sin restricciones en las fronteras. Supongamos una carretera con un carril y con fronteras abiertas sin restricciones. Supongamos también que en algún momento tenemos que en cada una de las fronteras, $j=1$. En el caso de fronteras periódicas esto significará que en cada extremo tendremos unna continuidad en el flujo, por lo que $j=1$ significa la misma velocidad y densidad en los dos lados de la frontera. \n",
    "\n",
    "Sin embargo en el caso de fronteras abiertas esto no es así. Mientras que en la frontera izquierda podría haber una velocidad $v=1$ y $\\rho=1$, en la frontera derecha podríamos encontrar $v=5$ y $\\rho=1/5$. En cualquiera de los dos casos tendremos que $j=1$. Este problema se resuelve en parte al dividir la carretera en secciones y analizar sección por sección lo ocurrido, sin embargo no es suficiente, y tendremos también que analizar la carretera poniendo atención en otras maneras de analizar los datos ya existentes. Sin embargo esto lo dejaremos para la parte de resultados.\n",
    "\n",
    "Por otro lado, el hecho de que un sistema no sea adiabático nos impide recurrir al equilibrio que teníamos en un sistema adiabático. ¿Qué haremos entonces?\n",
    "\n",
    "En primer lugar, estudiar las transiciones de fase que nuestro sistema presenta. También tendremos que recurrir al concepto de metaestabilidad. Con **metaestabilidad** nos referimos a la capacidad de un sistema de llegar a un estado estable. Sin embargo este estado dependerá de las condiciones iniciales del sistema. "
   ]
  },
  {
   "cell_type": "markdown",
   "metadata": {},
   "source": [
    "Hasta ahora hemos visto algunos de los aspectos generales de los autómatas celulares. El modelo de NaSch, el cual se basa en estos entes matemáticos y en el cual nos basaremos para construir nuestro modelo utiliza sólo una pequeña parte de toda la riqueza que los autómatas contienen. Sin embargo el tiempo es limitado, por lo que habrá de pasar a los siguiente."
   ]
  },
  {
   "cell_type": "markdown",
   "metadata": {},
   "source": [
    "## 2. 4 Comentarios finales"
   ]
  },
  {
   "cell_type": "markdown",
   "metadata": {},
   "source": [
    "El hecho de que la dinámica de nuestra carretera esté caracterizada a tal nivel de detalle, dándole a cada vehículo y celda vacía de la carretera propiedades y un conjunto de reglas de transición (aceleración, desaceleración, cambio de carril, etc.) nos permite decir que el modelo construido y a constuir es **microscópico**. La definición de este tipo de modelos es básicamente el nivel de detalle tan grande el cual podemos incertar a cada uno de los agentes del sistema. También, es importante notar que este tipo de modelo es distinto a los modelos **macroscópicos** que describen la dinámica del sistema sin gran detalle y ven a este como un todo o un conjunto. Es decir que en un sistema macroscópico las reglas de transición no serían aplicadas a cada vehículo, sino que las variables interesadas (flujo, densidad, etc.) serían medidas como un *todo* y no como el producto de una dinámica colectiva (tal cual se piensa en  la física clásica). Se han desarrollado de la misma manera sistemas **mesoscópicos** los cuales combinan algunas propiedades macroscópicas con un nivel de detalle microscópico.\n",
    "\n",
    "Al tipo de modelo con el cual trabajaremos también es llamado como \"particle hopping\" por el hecho de vivir en un espacio discreto dado por el autómata celular, lo cual daría la impresión que los coches \"saltan\" de una celda a otra. De esta manera el modelo con el cual trabajaremos será uno \"car following\", \"particle hopping\", además de microscópico y estocástico (a tratar en el capítulo siguiente)."
   ]
  },
  {
   "cell_type": "markdown",
   "metadata": {},
   "source": [
    "**Falta**\n",
    "\n",
    "+ Modificar las figuras"
   ]
  },
  {
   "cell_type": "markdown",
   "metadata": {},
   "source": [
    "## Referencias"
   ]
  },
  {
   "cell_type": "markdown",
   "metadata": {},
   "source": [
    "[1] del Río, J.A. Lárraga, M.E. Transient Situations in Traffic Flow: Modeling the Mexico City Cuernavaca Highway\n",
    "\n",
    "[2] Lárraga, M.E. Un autómata celular probabilista para la simulación del tránsito de automóviles automatizados, Tesis Maestría, UNAM (2001)\n",
    "\n",
    "[3] Lárraga, M.E., , Tesis doctotal, UNAM\n",
    "\n",
    "[4] Lighthill, M. J., Whitham, G. B., On kinematic waves II. A theory of traffic flow on long crowded roads, Proceedings of Royal Society of London Series A 229:317-345 (1955).\n",
    "\n",
    "[5] Maerivoet, S. Modelling Traffic on Motorways: State-of-the-Art, Numerical Data Analysis and Dynamic Traffic Assignment, Katholieke Universiteit Leuven (2006)\n",
    "\n",
    "[6] Wolfram, S. Cellular Automata as Simple Self-Organizing Systems, Caltech Preprint CALT-68-938 (1982)\n",
    "\n",
    "[7] Nagel, K. Schreckenberg, M. A cellular automaton model for freeway traffic, J. Phys I France 2, p 2221-2229 (1992)\n"
   ]
  },
  {
   "cell_type": "code",
   "execution_count": null,
   "metadata": {
    "collapsed": true
   },
   "outputs": [],
   "source": []
  }
 ],
 "metadata": {
  "kernelspec": {
   "display_name": "Julia 0.3.5",
   "language": "julia",
   "name": "julia-0.3"
  },
  "language_info": {
   "name": "julia",
   "version": "0.3.5"
  }
 },
 "nbformat": 4,
 "nbformat_minor": 0
}
